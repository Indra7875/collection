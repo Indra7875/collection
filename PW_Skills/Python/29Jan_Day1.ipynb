{
 "cells": [
  {
   "cell_type": "code",
   "execution_count": null,
   "id": "67d56fc4-f32c-4c2d-a953-29ab7dd51909",
   "metadata": {},
   "outputs": [],
   "source": [
    "#### First Demo Code"
   ]
  },
  {
   "cell_type": "code",
   "execution_count": null,
   "id": "1293cd9f-3b9f-4e80-b7c0-d01e68699388",
   "metadata": {},
   "outputs": [],
   "source": [
    "a=10;"
   ]
  },
  {
   "cell_type": "code",
   "execution_count": 3,
   "id": "18287a65-332a-4a66-9ccd-9a5323b446db",
   "metadata": {},
   "outputs": [
    {
     "name": "stdout",
     "output_type": "stream",
     "text": [
      "10\n"
     ]
    }
   ],
   "source": [
    "print(a)"
   ]
  },
  {
   "cell_type": "code",
   "execution_count": null,
   "id": "779dadab-bb8f-4d7a-984d-1047e855279c",
   "metadata": {},
   "outputs": [],
   "source": [
    "## Numbers"
   ]
  },
  {
   "cell_type": "code",
   "execution_count": 5,
   "id": "3cf07dd3-7c41-420a-be1e-72916c0e179a",
   "metadata": {},
   "outputs": [
    {
     "data": {
      "text/plain": [
       "4"
      ]
     },
     "execution_count": 5,
     "metadata": {},
     "output_type": "execute_result"
    }
   ],
   "source": [
    "1+3"
   ]
  },
  {
   "cell_type": "code",
   "execution_count": 6,
   "id": "666bb967-92eb-444e-851e-7315d6a7bb8b",
   "metadata": {},
   "outputs": [
    {
     "name": "stdout",
     "output_type": "stream",
     "text": [
      "4\n"
     ]
    }
   ],
   "source": [
    "print(1+3)"
   ]
  },
  {
   "cell_type": "code",
   "execution_count": 8,
   "id": "db44bfda-4e73-4c51-b749-373686683298",
   "metadata": {},
   "outputs": [
    {
     "name": "stdout",
     "output_type": "stream",
     "text": [
      "Hello world..My name is Indrajit and \n",
      " I am working in Apexon\n"
     ]
    }
   ],
   "source": [
    "print(\"Hello world..My name is Indrajit and \\n I am working in Apexon\")"
   ]
  },
  {
   "cell_type": "markdown",
   "id": "2749ee64-bb6e-47df-9f46-8c18fbf8e2fa",
   "metadata": {},
   "source": [
    "## Variable Assignment "
   ]
  },
  {
   "cell_type": "code",
   "execution_count": 22,
   "id": "760be082-aa1c-46c2-8678-d651415e865e",
   "metadata": {},
   "outputs": [],
   "source": [
    "name=\"Indrajit\""
   ]
  },
  {
   "cell_type": "code",
   "execution_count": 23,
   "id": "e642cb26-12d9-4d74-b942-1c82c4828dc5",
   "metadata": {},
   "outputs": [],
   "source": [
    "company=\"Apexon\""
   ]
  },
  {
   "cell_type": "code",
   "execution_count": 24,
   "id": "1723ac64-082e-4fbc-9d2e-b8af1399a129",
   "metadata": {},
   "outputs": [
    {
     "name": "stdout",
     "output_type": "stream",
     "text": [
      "Indrajit\n"
     ]
    }
   ],
   "source": [
    "print(name)"
   ]
  },
  {
   "cell_type": "code",
   "execution_count": 25,
   "id": "006b0128-d6ca-440c-8045-1c11295e46b5",
   "metadata": {},
   "outputs": [
    {
     "name": "stdout",
     "output_type": "stream",
     "text": [
      "Apexon\n"
     ]
    }
   ],
   "source": [
    "print(company)"
   ]
  },
  {
   "cell_type": "code",
   "execution_count": 28,
   "id": "a5c7c8a1-07e9-4280-9e49-e19d662d2a92",
   "metadata": {},
   "outputs": [],
   "source": [
    "name='Vishal'"
   ]
  },
  {
   "cell_type": "code",
   "execution_count": 29,
   "id": "09965652-ece9-40af-a5df-f65547bb304b",
   "metadata": {},
   "outputs": [
    {
     "data": {
      "text/plain": [
       "'Vishal'"
      ]
     },
     "execution_count": 29,
     "metadata": {},
     "output_type": "execute_result"
    }
   ],
   "source": [
    "name"
   ]
  },
  {
   "cell_type": "code",
   "execution_count": 30,
   "id": "6714f919-ca9d-48ec-b349-a9a78276e12d",
   "metadata": {},
   "outputs": [
    {
     "data": {
      "text/plain": [
       "str"
      ]
     },
     "execution_count": 30,
     "metadata": {},
     "output_type": "execute_result"
    }
   ],
   "source": [
    "type('Vishal')"
   ]
  },
  {
   "cell_type": "code",
   "execution_count": 31,
   "id": "89ad5335-0829-4fc2-893c-f0e84bc892b9",
   "metadata": {},
   "outputs": [
    {
     "data": {
      "text/plain": [
       "str"
      ]
     },
     "execution_count": 31,
     "metadata": {},
     "output_type": "execute_result"
    }
   ],
   "source": [
    "type(name)"
   ]
  },
  {
   "cell_type": "code",
   "execution_count": 32,
   "id": "54eaacb5-b1b7-4b2f-afbd-477b318dc442",
   "metadata": {},
   "outputs": [],
   "source": [
    "number=10"
   ]
  },
  {
   "cell_type": "code",
   "execution_count": 33,
   "id": "00ec2540-d911-4014-a735-94f65d318d65",
   "metadata": {},
   "outputs": [
    {
     "name": "stdout",
     "output_type": "stream",
     "text": [
      "10\n"
     ]
    }
   ],
   "source": [
    "print(number)"
   ]
  },
  {
   "cell_type": "code",
   "execution_count": 34,
   "id": "3f8a09e5-b51b-4ebb-9a7d-f7522d4aff17",
   "metadata": {},
   "outputs": [
    {
     "data": {
      "text/plain": [
       "int"
      ]
     },
     "execution_count": 34,
     "metadata": {},
     "output_type": "execute_result"
    }
   ],
   "source": [
    "type(number)"
   ]
  },
  {
   "cell_type": "code",
   "execution_count": 35,
   "id": "7452e1ad-a35a-4274-a7a4-01eb2348c263",
   "metadata": {},
   "outputs": [],
   "source": [
    "decimal_num = 2.5"
   ]
  },
  {
   "cell_type": "code",
   "execution_count": 36,
   "id": "3bb023e3-799b-4835-9dee-50576a2cb13a",
   "metadata": {},
   "outputs": [
    {
     "name": "stdout",
     "output_type": "stream",
     "text": [
      "2.5\n"
     ]
    }
   ],
   "source": [
    "print(decimal_num)"
   ]
  },
  {
   "cell_type": "code",
   "execution_count": 37,
   "id": "531e974f-ad8f-4f8e-a06b-4f929ff8b7b5",
   "metadata": {},
   "outputs": [
    {
     "data": {
      "text/plain": [
       "float"
      ]
     },
     "execution_count": 37,
     "metadata": {},
     "output_type": "execute_result"
    }
   ],
   "source": [
    "type(decimal_num)"
   ]
  },
  {
   "cell_type": "code",
   "execution_count": 38,
   "id": "d008fda0-dfad-462b-9965-ce8bcf550083",
   "metadata": {},
   "outputs": [],
   "source": [
    "complex_number = 1+2j"
   ]
  },
  {
   "cell_type": "code",
   "execution_count": 39,
   "id": "63664676-68b7-45b1-b5e7-ac04a0ae16d3",
   "metadata": {},
   "outputs": [
    {
     "name": "stdout",
     "output_type": "stream",
     "text": [
      "(1+2j)\n"
     ]
    }
   ],
   "source": [
    "print(complex_number)"
   ]
  },
  {
   "cell_type": "code",
   "execution_count": 40,
   "id": "03f2a67a-f1ee-4379-ab84-1b59d3eadc44",
   "metadata": {},
   "outputs": [
    {
     "data": {
      "text/plain": [
       "complex"
      ]
     },
     "execution_count": 40,
     "metadata": {},
     "output_type": "execute_result"
    }
   ],
   "source": [
    "type(complex_number)"
   ]
  },
  {
   "cell_type": "markdown",
   "id": "e0d947cc-7f3a-4dc5-9d20-9a62d2b63c9f",
   "metadata": {},
   "source": [
    "### Bad Way To declare Varibales\n",
    "#### don't initilize varibale starts with number\n",
    "1a\n",
    "3answer"
   ]
  },
  {
   "cell_type": "code",
   "execution_count": 41,
   "id": "787e5e2f-113f-4674-8f1d-c8bab17d7325",
   "metadata": {},
   "outputs": [
    {
     "name": "stdout",
     "output_type": "stream",
     "text": [
      "Apexon\n",
      "TCS\n"
     ]
    }
   ],
   "source": [
    "### Variables are case sensitive \n",
    "company = 'Apexon'\n",
    "Company = 'TCS'\n",
    "print(company)\n",
    "print(Company)"
   ]
  },
  {
   "cell_type": "code",
   "execution_count": null,
   "id": "5d7024b3-03af-4d5c-80e3-a34efd307266",
   "metadata": {},
   "outputs": [],
   "source": [
    "### Reserved Keywords\n",
    "'''\n",
    "int, float,len, complex, bool, str, return, yield\n",
    "'''"
   ]
  },
  {
   "cell_type": "code",
   "execution_count": 42,
   "id": "6ab34707-ccfb-46d9-800b-c470b53516d7",
   "metadata": {},
   "outputs": [
    {
     "data": {
      "text/plain": [
       "True"
      ]
     },
     "execution_count": 42,
     "metadata": {},
     "output_type": "execute_result"
    }
   ],
   "source": [
    "### Boolean\n",
    "True"
   ]
  },
  {
   "cell_type": "code",
   "execution_count": 43,
   "id": "ec629d6b-e08b-4c0e-a993-448870e61ee1",
   "metadata": {},
   "outputs": [
    {
     "data": {
      "text/plain": [
       "False"
      ]
     },
     "execution_count": 43,
     "metadata": {},
     "output_type": "execute_result"
    }
   ],
   "source": [
    "False"
   ]
  },
  {
   "cell_type": "code",
   "execution_count": 44,
   "id": "33c2aba5-074b-4efc-8d16-be9e3debfd8b",
   "metadata": {},
   "outputs": [
    {
     "data": {
      "text/plain": [
       "False"
      ]
     },
     "execution_count": 44,
     "metadata": {},
     "output_type": "execute_result"
    }
   ],
   "source": [
    "True and False"
   ]
  },
  {
   "cell_type": "code",
   "execution_count": 46,
   "id": "70cdba0c-feba-4ccb-821e-df3ded33b5a4",
   "metadata": {},
   "outputs": [
    {
     "data": {
      "text/plain": [
       "True"
      ]
     },
     "execution_count": 46,
     "metadata": {},
     "output_type": "execute_result"
    }
   ],
   "source": [
    "True or False"
   ]
  },
  {
   "cell_type": "code",
   "execution_count": 47,
   "id": "2914365f-310a-49f5-9275-b9ef193f38c0",
   "metadata": {},
   "outputs": [
    {
     "data": {
      "text/plain": [
       "False"
      ]
     },
     "execution_count": 47,
     "metadata": {},
     "output_type": "execute_result"
    }
   ],
   "source": [
    "not True"
   ]
  },
  {
   "cell_type": "code",
   "execution_count": 48,
   "id": "dc262842-7654-4feb-9fcb-9cb58b556ece",
   "metadata": {},
   "outputs": [
    {
     "data": {
      "text/plain": [
       "True"
      ]
     },
     "execution_count": 48,
     "metadata": {},
     "output_type": "execute_result"
    }
   ],
   "source": [
    "not False"
   ]
  },
  {
   "cell_type": "code",
   "execution_count": 49,
   "id": "a3d1da88-fb69-43b0-851c-d95a8d7ff689",
   "metadata": {},
   "outputs": [
    {
     "data": {
      "text/plain": [
       "bool"
      ]
     },
     "execution_count": 49,
     "metadata": {},
     "output_type": "execute_result"
    }
   ],
   "source": [
    "type(True)"
   ]
  },
  {
   "cell_type": "code",
   "execution_count": 64,
   "id": "7ab8e5c5-ae11-4687-8eb0-99e204f0c308",
   "metadata": {},
   "outputs": [
    {
     "data": {
      "text/plain": [
       "'23'"
      ]
     },
     "execution_count": 64,
     "metadata": {},
     "output_type": "execute_result"
    }
   ],
   "source": [
    "## Typecasting\n",
    "str(23)"
   ]
  },
  {
   "cell_type": "code",
   "execution_count": 66,
   "id": "134b7fb2-f9e4-4ab6-87e7-36cd8ae16ca0",
   "metadata": {},
   "outputs": [
    {
     "data": {
      "text/plain": [
       "23"
      ]
     },
     "execution_count": 66,
     "metadata": {},
     "output_type": "execute_result"
    }
   ],
   "source": [
    "int('23')"
   ]
  },
  {
   "cell_type": "code",
   "execution_count": 65,
   "id": "ed8c0bd8-006d-4e6d-9df6-fc9b79b7058b",
   "metadata": {},
   "outputs": [
    {
     "data": {
      "text/plain": [
       "False"
      ]
     },
     "execution_count": 65,
     "metadata": {},
     "output_type": "execute_result"
    }
   ],
   "source": [
    "bool(0)"
   ]
  },
  {
   "cell_type": "code",
   "execution_count": 55,
   "id": "4600425f-3954-464c-873d-8e492a76c8d3",
   "metadata": {},
   "outputs": [
    {
     "data": {
      "text/plain": [
       "True"
      ]
     },
     "execution_count": 55,
     "metadata": {},
     "output_type": "execute_result"
    }
   ],
   "source": [
    "bool(1)"
   ]
  },
  {
   "cell_type": "code",
   "execution_count": 62,
   "id": "316a1c30-7112-4a28-9cad-c3a1b156f87a",
   "metadata": {},
   "outputs": [
    {
     "name": "stdout",
     "output_type": "stream",
     "text": [
      "It's True\n"
     ]
    }
   ],
   "source": [
    "a = 1\n",
    "if bool(a) == True :\n",
    "\n",
    "    print(\"It's True\")"
   ]
  },
  {
   "cell_type": "code",
   "execution_count": null,
   "id": "d99410df-c901-4f07-9d66-9febd04496f9",
   "metadata": {},
   "outputs": [],
   "source": [
    "## Dynamic Typing"
   ]
  },
  {
   "cell_type": "code",
   "execution_count": 67,
   "id": "8b9a870e-f9c3-45e9-9640-b8d4d01266c2",
   "metadata": {},
   "outputs": [],
   "source": [
    "a=12\n",
    "name='Indrajit'\n",
    "value=10.3"
   ]
  },
  {
   "cell_type": "code",
   "execution_count": 68,
   "id": "108ac3a8-ee55-42ce-85fc-41e4658296bf",
   "metadata": {},
   "outputs": [],
   "source": [
    "## Concatenation between different types "
   ]
  },
  {
   "cell_type": "code",
   "execution_count": 69,
   "id": "8025230c-cfdf-407a-80d2-0826e69cd8e0",
   "metadata": {},
   "outputs": [
    {
     "data": {
      "text/plain": [
       "'11'"
      ]
     },
     "execution_count": 69,
     "metadata": {},
     "output_type": "execute_result"
    }
   ],
   "source": [
    "\"1\" + \"1\""
   ]
  },
  {
   "cell_type": "code",
   "execution_count": 70,
   "id": "96358d8c-0c02-48f1-94cc-aad88b121ea7",
   "metadata": {},
   "outputs": [
    {
     "data": {
      "text/plain": [
       "2"
      ]
     },
     "execution_count": 70,
     "metadata": {},
     "output_type": "execute_result"
    }
   ],
   "source": [
    "int(\"1\") + int(\"1\")"
   ]
  },
  {
   "cell_type": "code",
   "execution_count": 71,
   "id": "c481c5c4-d7c8-4dcd-99ce-bbb106426af6",
   "metadata": {},
   "outputs": [
    {
     "data": {
      "text/plain": [
       "'1111111111'"
      ]
     },
     "execution_count": 71,
     "metadata": {},
     "output_type": "execute_result"
    }
   ],
   "source": [
    "\"1\" * 10"
   ]
  },
  {
   "cell_type": "code",
   "execution_count": null,
   "id": "61036d7f-2077-4032-88ac-9ca7d87efc73",
   "metadata": {},
   "outputs": [],
   "source": []
  }
 ],
 "metadata": {
  "kernelspec": {
   "display_name": "Python 3 (ipykernel)",
   "language": "python",
   "name": "python3"
  },
  "language_info": {
   "codemirror_mode": {
    "name": "ipython",
    "version": 3
   },
   "file_extension": ".py",
   "mimetype": "text/x-python",
   "name": "python",
   "nbconvert_exporter": "python",
   "pygments_lexer": "ipython3",
   "version": "3.9.12"
  }
 },
 "nbformat": 4,
 "nbformat_minor": 5
}
